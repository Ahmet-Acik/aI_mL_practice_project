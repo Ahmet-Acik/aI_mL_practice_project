{
 "cells": [
  {
   "cell_type": "markdown",
   "id": "cb2874d5",
   "metadata": {},
   "source": [
    "# Example Exploration\n",
    "This notebook demonstrates basic data loading and model training."
   ]
  },
  {
   "cell_type": "code",
   "execution_count": null,
   "id": "98e20f0c",
   "metadata": {},
   "outputs": [],
   "source": [
    "import pandas as pd\n",
    "from src.data_loader import load_csv\n",
    "from src.model_train import train_model"
   ]
  },
  {
   "cell_type": "code",
   "execution_count": null,
   "id": "1497b21a",
   "metadata": {},
   "outputs": [],
   "source": [
    "# Place a CSV file with a 'target' column in the data/ directory before running this cell\n",
    "# df = load_csv('your_data.csv')\n",
    "# model = train_model('your_data.csv')"
   ]
  }
 ],
 "metadata": {
  "language_info": {
   "name": "python"
  }
 },
 "nbformat": 4,
 "nbformat_minor": 5
}
